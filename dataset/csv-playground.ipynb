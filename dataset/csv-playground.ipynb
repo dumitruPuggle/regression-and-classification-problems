{
 "cells": [
  {
   "cell_type": "code",
   "execution_count": 173,
   "metadata": {
    "collapsed": true,
    "pycharm": {
     "name": "#%%\n"
    }
   },
   "outputs": [],
   "source": [
    "import json\n",
    "from csv import reader, writer, DictReader, DictWriter"
   ]
  },
  {
   "cell_type": "code",
   "execution_count": 139,
   "outputs": [
    {
     "name": "stdout",
     "output_type": "stream",
     "text": [
      "['1', '6414100192', '2014-12-09', '538000.0', '3', '2.25', '2570', '7242', '2.0', '0', '0', '3', '7', '2170', '400', '1951', '1991', '98125', '47.721', '-122.319', '1690', '7639']\n"
     ]
    }
   ],
   "source": [
    "# reading:\n",
    "with open('dataset.csv', 'r') as csv_file:\n",
    "    data = [house for house in reader(csv_file, delimiter=\",\")]\n",
    "    print(data[2])"
   ],
   "metadata": {
    "collapsed": false,
    "pycharm": {
     "name": "#%%\n"
    }
   }
  },
  {
   "cell_type": "code",
   "execution_count": 165,
   "outputs": [
    {
     "name": "stdout",
     "output_type": "stream",
     "text": [
      "{'': '0', 'id': '7129300520', 'date': '2014-10-13', 'price': '221900.0', 'bedrooms': '3', 'bathrooms': '1.0', 'sqft_living': '1180', 'sqft_lot': '5650', 'floors': '1.0', 'waterfront': '0', 'view': '0', 'condition': '3', 'grade': '7', 'sqft_above': '1180', 'sqft_basement': '0', 'yr_built': '1955', 'yr_renovated': '0', 'zipcode': '98178', 'lat': '47.5112', 'long': '-122.257', 'sqft_living15': '1340', 'sqft_lot15': '5650'}\n"
     ]
    }
   ],
   "source": [
    "# dictionary reader:\n",
    "with open('dataset.csv', 'r') as csv_file2:\n",
    "    houses = DictReader(csv_file2, delimiter=\",\")\n",
    "    # now we have a dict which is more readable\n",
    "    print(next(houses))"
   ],
   "metadata": {
    "collapsed": false,
    "pycharm": {
     "name": "#%%\n"
    }
   }
  },
  {
   "cell_type": "code",
   "execution_count": 209,
   "outputs": [],
   "source": [
    "# writing\n",
    "with open('test.csv', 'w') as new_file:\n",
    "    csv_writer = writer(new_file, delimiter=\",\")\n",
    "    csv_writer.writerow(['name', 'surname'])\n",
    "    csv_writer.writerow(['Dumitru', 'Cucu'])"
   ],
   "metadata": {
    "collapsed": false,
    "pycharm": {
     "name": "#%%\n"
    }
   }
  },
  {
   "cell_type": "code",
   "execution_count": 208,
   "outputs": [],
   "source": [
    "# dictionary writer\n",
    "with open('test.csv', 'w') as new_file2:\n",
    "    # when using DictWriter it is necessary to include the fieldnames\n",
    "    fieldnames = [\"name\", \"surname\"]\n",
    "    csv_writer = DictWriter(new_file2, fieldnames=fieldnames, delimiter=',')\n",
    "\n",
    "    csv_writer.writeheader()\n",
    "    csv_writer.writerow({\n",
    "        \"name\": \"Dumitru\",\n",
    "        \"surname\": \"Cucu\"\n",
    "    })"
   ],
   "metadata": {
    "collapsed": false,
    "pycharm": {
     "name": "#%%\n"
    }
   }
  }
 ],
 "metadata": {
  "kernelspec": {
   "display_name": "Python 3",
   "language": "python",
   "name": "python3"
  },
  "language_info": {
   "codemirror_mode": {
    "name": "ipython",
    "version": 2
   },
   "file_extension": ".py",
   "mimetype": "text/x-python",
   "name": "python",
   "nbconvert_exporter": "python",
   "pygments_lexer": "ipython2",
   "version": "2.7.6"
  }
 },
 "nbformat": 4,
 "nbformat_minor": 0
}